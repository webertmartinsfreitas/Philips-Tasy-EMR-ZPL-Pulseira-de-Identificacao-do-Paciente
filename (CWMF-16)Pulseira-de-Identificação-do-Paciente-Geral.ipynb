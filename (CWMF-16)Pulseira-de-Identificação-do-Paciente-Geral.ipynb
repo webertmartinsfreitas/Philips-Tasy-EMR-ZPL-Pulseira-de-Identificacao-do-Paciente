{
  "nbformat": 4,
  "nbformat_minor": 0,
  "metadata": {
    "colab": {
      "provenance": [],
      "authorship_tag": "ABX9TyM/0wd4WW1EV3dREsaYSb+p",
      "include_colab_link": true
    },
    "kernelspec": {
      "name": "python3",
      "display_name": "Python 3"
    },
    "language_info": {
      "name": "python"
    }
  },
  "cells": [
    {
      "cell_type": "markdown",
      "metadata": {
        "id": "view-in-github",
        "colab_type": "text"
      },
      "source": [
        "<a href=\"https://colab.research.google.com/github/webertmartinsfreitas/Philips-Tasy-EMR-ZPL-Pulseira-de-Identificacao-Paciente-Geral/blob/main/(CWMF_16)_Pulseira_de_Identifica%C3%A7%C3%A3o_do_Paciente_Geral.ipynb\" target=\"_parent\"><img src=\"https://colab.research.google.com/assets/colab-badge.svg\" alt=\"Open In Colab\"/></a>"
      ]
    },
    {
      "cell_type": "markdown",
      "source": [
        "**Descrição:** Código ZPL completo da pulseira de identificação de pacientes gerais.\n",
        "\n",
        "*   **Código:** CWMF-16\n",
        "*   **Descrição:** Pulseira Identificação do Paciente (Geral)"
      ],
      "metadata": {
        "id": "k2A2FkON1Iu4"
      }
    },
    {
      "cell_type": "code",
      "source": [
        "^XA\n",
        "^POI\n",
        "~SD20\n",
        "^FO[PosHor(320)],250^BY2,2,100^BKN,100,N,N^FD &NR_ATENDIMENTO^FS\n",
        "^FO[PosHor(460)],380^ADR,28,15^FDPaciente: &NM_PACIENTE^FS\n",
        "^FO[PosHor(435)],380^ADR,18,10^FDAtendimento: &NR_ATENDIMENTO^FS\n",
        "^FO[PosHor(435)],650^ADR,18,10^FDProntuario: &NR_PRONTUARIO^FS\n",
        "^FO[PosHor(405)],380^ADR,18,10^FDAdmissao: &DT_ENTRADA^FS\n",
        "^FO[PosHor(405)],650^ADR,18,10^FDNascimento: &DT_NASCIMENTO - &DS_IDADE^FS\n",
        "^FO[PosHor(375)],380^ADR,18,10^FDTipo Sanguineo: &DS_TIPO_SANGUE_RH^FS\n",
        "^FO[PosHor(375)],650^ADR,18,10^FDSexo: &DS_SEXO^FS\n",
        "^FO[PosHor(345)],380^ADR,18,10^FDNome da Mae: &NM_MAE^FS\n",
        "^FO[PosHor(315)],380^ADR,18,10^FDMedico: &NM_MEDICO^FS\n",
        "^FO[PosHor(460)],1310^AER,18,10^FDP-GR^FS\n",
        "^FO[PosHor(350)],1200^BQN,2,5^FDQA,&CD_PESSOA_FISICA^FS\n",
        "^FO[PosHor(310)],1290^AER,18,10^FDCWMF-16^FS\n",
        "^XZ\n",
        "^JUa"
      ],
      "metadata": {
        "id": "41i6wgzc43fd"
      },
      "execution_count": null,
      "outputs": []
    },
    {
      "cell_type": "code",
      "execution_count": null,
      "metadata": {
        "id": "pZ7N_u5o8Lmv"
      },
      "outputs": [],
      "source": [
        "^XA\n",
        "# 1) Inicia um novo documento ZPL.\n",
        "# 2) Essa linha de código é obrigatória para iniciar qualquer documento ZPL. Ela define o início do documento e prepara a impressora para receber comandos.\n",
        "# 3) A linha ^XA é a primeira linha de código em qualquer documento ZPL. Ela deve ser seguida por outras linhas de código que definem as configurações do documento, como o tipo de documento, o tamanho da etiqueta e a fonte do texto."
      ]
    },
    {
      "cell_type": "code",
      "source": [
        "^POI\n",
        "# 1) Define o tipo de documento como \"Padrão\".\n",
        "# 2) Essa linha de código é opcional, mas é recomendada para todos os documentos ZPL. Ela define o tipo de documento como \"Padrão\", que é o tipo de documento mais comum.\n",
        "# 3) A linha ^POI pode ser usada para definir o tipo de documento como \"Padrão\", \"Largura Fixa\" ou \"Combinado\"."
      ],
      "metadata": {
        "id": "Mlq8XP1V8dpp"
      },
      "execution_count": null,
      "outputs": []
    },
    {
      "cell_type": "code",
      "source": [
        "~SD20\n",
        "# 1) ~SD Define a fonte do texto.\n",
        "# 2) 20 Define o tamanho da fonte.\n",
        "# 3) Essa linha de código é opcional, mas é recomendada para todos os documentos ZPL. Ela define a fonte do texto que será impresso na etiqueta.\n",
        "# 4) A linha ~SD pode ser usada para definir a fonte do texto como \"Sans serif\", \"Serif\", \"Monospace\", \"Script\" ou \"Symbol\".\n",
        "# 5) A fonte \"Sans serif\" é a fonte mais comum. Ela é usada para texto que deve ser facilmente legível, como rótulos e etiquetas."
      ],
      "metadata": {
        "id": "MvarPnfn9PbP"
      },
      "execution_count": null,
      "outputs": []
    },
    {
      "cell_type": "code",
      "source": [
        "^FO[PosHor(320)],250^BY2,2,100^BKN,100,N,N^FD &NR_ATENDIMENTO^FS\n",
        "# 1) ^FO Inicia um comando de formatação de texto.\n",
        "# 2) [PosHor(320)] Define a posição horizontal do texto. O valor 320 indica que o texto deve ser impresso a 320 pontos da borda esquerda da etiqueta.\n",
        "# 3) ,250 Define a posição vertical do texto. O valor 250 indica que o texto deve ser impresso a 250 pontos da borda inferior da etiqueta.\n",
        "# 4) ^BY2,2,100 Define a espessura do texto. O valor 2 indica que a espessura da fonte será de 2 pontos. O valor 2 indica que o espaçamento entre caracteres será de 2 pontos. O valor 100 indica que o espaçamento entre linhas será de 100 pontos.\n",
        "# 5) ^BKN,100,N,N define o tipo de código de barras a ser utilizado. ^BKN é usado para criar um código de barras. 100 pode ser o valor do tipo de código de barras específico. N,N pode ser parâmetros para configurações de posição, como \"Normal, Normal\".\n",
        "# 6) ^FD &NR_ATENDIMENTO^FS define define os dados a serem codificados no código de barras. ^FD indica o início dos dados. &NR_ATENDIMENTO é provavelmente uma variável ou um valor a ser codificado no código de barras. ^FS indica o final do campo."
      ],
      "metadata": {
        "id": "kqnbtUR9_gpD"
      },
      "execution_count": null,
      "outputs": []
    },
    {
      "cell_type": "code",
      "source": [
        "^FO[PosHor(460)],380^ADR,28,15^FDPaciente: &NM_PACIENTE^FS\n",
        "# 1) ^FO Inicia um comando de formatação de texto.\n",
        "# 2) [PosHor(460)] Define a posição horizontal do texto. O valor 460 indica que o texto deve ser impresso a 460 pontos da borda esquerda da etiqueta.\n",
        "# 3) ,380 Define a posição vertical do texto. O valor 380 indica que o texto deve ser impresso a 380 pontos da borda inferior da etiqueta.\n",
        "# 4) ^ADR,28,15 Define o alinhamento do texto. O valor 28 indica que o texto deve ser alinhado à direita. O valor 15 indica que o texto deve ser justificado à direita.\n",
        "# 5) ^FDPaciente: &NM_PACIENTE^FS Imprime o texto \"Paciente: \", seguido pelo valor da variável NM_PACIENTE."
      ],
      "metadata": {
        "id": "norglNoTASPj"
      },
      "execution_count": null,
      "outputs": []
    },
    {
      "cell_type": "code",
      "source": [
        "^FO[PosHor(435)],380^ADR,18,10^FDAtendimento: &NR_ATENDIMENTO^FS\n",
        "# 1) ^FO Inicia um comando de formatação de texto.\n",
        "# 2) [PosHor(435)] Define a posição horizontal do texto. O valor 435 indica que o texto deve ser impresso a 435 pontos da borda esquerda da etiqueta.\n",
        "# 3) ,380 Define a posição vertical do texto. O valor 380 indica que o texto deve ser impresso a 380 pontos da borda inferior da etiqueta.\n",
        "# 4) ^ADR,18,10 Define o alinhamento do texto. O valor 18 indica que o texto deve ser alinhado à direita. O valor 10 indica que o texto deve ser justificado à direita.\n",
        "# 5) ^FDAtendimento: &NR_ATENDIMENTO^FS Imprime o texto \"Atendimento: \", seguido pelo valor da variável NR_ATENDIMENTO."
      ],
      "metadata": {
        "id": "FHwUTQmPCArW"
      },
      "execution_count": null,
      "outputs": []
    },
    {
      "cell_type": "code",
      "source": [
        "^FO[PosHor(435)],650^ADR,18,10^FDProntuario: &NR_PRONTUARIO^FS\n",
        "# 1) ^FO Inicia um comando de formatação de texto.\n",
        "# 2) [PosHor(435)] Define a posição horizontal do texto. O valor 435 indica que o texto deve ser impresso a 435 pontos da borda esquerda da etiqueta.\n",
        "# 3) ,650 Define a posição vertical do texto. O valor 650 indica que o texto deve ser impresso a 650 pontos da borda inferior da etiqueta.\n",
        "# 4) ^ADR,18,10 Define o alinhamento do texto. O valor 18 indica que o texto deve ser alinhado à direita. O valor 10 indica que o texto deve ser justificado à direita.\n",
        "# 5) ^FDProntuario: &NR_PRONTUARIO^FS Imprime o texto \"Prontuario: \", seguido pelo valor da variável NR_PRONTUARIO."
      ],
      "metadata": {
        "id": "jbpZ2LfmCWu7"
      },
      "execution_count": null,
      "outputs": []
    },
    {
      "cell_type": "code",
      "source": [
        "^FO[PosHor(405)],380^ADR,18,10^FDAdmissao: &DT_ENTRADA^FS\n",
        "# 1) ^FO Inicia um comando de formatação de texto.\n",
        "# 2) [PosHor(405)] Define a posição horizontal do texto. O valor 405 indica que o texto deve ser impresso a 405 pontos da borda esquerda da etiqueta.\n",
        "# 3) ,380 Define a posição vertical do texto. O valor 380 indica que o texto deve ser impresso a 380 pontos da borda inferior da etiqueta.\n",
        "# 4) ^ADR,18,10 Define o alinhamento do texto. O valor 18 indica que o texto deve ser alinhado à direita. O valor 10 indica que o texto deve ser justificado à direita.\n",
        "# 5) ^FDAdmissao: &DT_ENTRADA^FS Imprime o texto \"Admissao: \", seguido pelo valor da variável DT_ENTRADA.\n",
        "# 6) A variável DT_ENTRADA é uma variável de texto que contém a data de entrada do paciente. O código acima imprime a data de entrada do paciente no canto inferior direito da etiqueta, a 405 pontos da borda esquerda e 380 pontos da borda inferior. O texto é impresso em uma fonte sem serifa com alinhamento à direita e justificado à direita."
      ],
      "metadata": {
        "id": "ZRhJ6N7cCqxn"
      },
      "execution_count": null,
      "outputs": []
    },
    {
      "cell_type": "code",
      "source": [
        "^FO[PosHor(405)],650^ADR,18,10^FDNascimento: &DT_NASCIMENTO - &DS_IDADE^FS\n",
        "# 1) ^FO Inicia um comando de formatação de texto.\n",
        "# 2) [PosHor(405)] Define a posição horizontal do texto. O valor 405 indica que o texto deve ser impresso a 405 pontos da borda esquerda da etiqueta.\n",
        "# 3) ,650 Define a posição vertical do texto. O valor 650 indica que o texto deve ser impresso a 650 pontos da borda inferior da etiqueta.\n",
        "# 4) ^ADR,18,10 Define o alinhamento do texto. O valor 18 indica que o texto deve ser alinhado à direita. O valor 10 indica que o texto deve ser justificado à direita.\n",
        "# 5) ^FDNascimento: &DT_NASCIMENTO - &DS_IDADE^FS Imprime o texto \"Nascimento: \", seguido pela data de nascimento do paciente e a idade do paciente."
      ],
      "metadata": {
        "id": "ZyS16HIWDGXe"
      },
      "execution_count": null,
      "outputs": []
    },
    {
      "cell_type": "code",
      "source": [
        "^FO[PosHor(375)],380^ADR,18,10^FDTipo Sanguineo: &DS_TIPO_SANGUE_RH^FS\n",
        "# 1) ^FO Inicia um comando de formatação de texto.\n",
        "# 2) [PosHor(375)] Define a posição horizontal do texto. O valor 375 indica que o texto deve ser impresso a 375 pontos da borda esquerda da etiqueta.\n",
        "# 3) ,380 Define a posição vertical do texto. O valor 380 indica que o texto deve ser impresso a 380 pontos da borda inferior da etiqueta.\n",
        "# 4) ^ADR,18,10 Define o alinhamento do texto. O valor 18 indica que o texto deve ser alinhado à direita. O valor 10 indica que o texto deve ser justificado à direita.\n",
        "# 5) ^FDTipo Sanguineo: &DS_TIPO_SANGUE_RH^FS Imprime o texto \"Tipo Sanguineo: \", seguido pelo tipo sanguíneo e o fator RH do paciente."
      ],
      "metadata": {
        "id": "UWY6Zpl9DnBH"
      },
      "execution_count": null,
      "outputs": []
    },
    {
      "cell_type": "code",
      "source": [
        "^FO[PosHor(375)],650^ADR,18,10^FDSexo: &DS_SEXO^FS\n",
        "# 1) ^FO Inicia um comando de formatação de texto.\n",
        "# 2) [PosHor(375)] Define a posição horizontal do texto. O valor 375 indica que o texto deve ser impresso a 375 pontos da borda esquerda da etiqueta.\n",
        "# 3) ,650 Define a posição vertical do texto. O valor 650 indica que o texto deve ser impresso a 650 pontos da borda inferior da etiqueta.\n",
        "# 4) ^ADR,18,10 Define o alinhamento do texto. O valor 18 indica que o texto deve ser alinhado à direita. O valor 10 indica que o texto deve ser justificado à direita.\n",
        "# 5) ^FDSexo: &DS_SEXO^FS Imprime o texto \"Sexo: \", seguido do sexo do paciente."
      ],
      "metadata": {
        "id": "YvB-ZqQcD6ed"
      },
      "execution_count": null,
      "outputs": []
    },
    {
      "cell_type": "code",
      "source": [
        "^FO[PosHor(345)],380^ADR,18,10^FDNome da Mae: &NM_MAE^FS\n",
        "# 1) ^FO Inicia um comando de formatação de texto.\n",
        "# 2) [PosHor(345)] Define a posição horizontal do texto. O valor 345 indica que o texto deve ser impresso a 345 pontos da borda esquerda da etiqueta.\n",
        "# 3) ,380 Define a posição vertical do texto. O valor 380 indica que o texto deve ser impresso a 380 pontos da borda inferior da etiqueta.\n",
        "# 4) ^ADR,18,10 Define o alinhamento do texto. O valor 18 indica que o texto deve ser alinhado à direita. O valor 10 indica que o texto deve ser justificado à direita.\n",
        "# 5) ^FDNome da Mae: &NM_MAE^FS Imprime o texto \"Nome da Mae: \", seguido do nome da mãe do paciente."
      ],
      "metadata": {
        "id": "VDXdBRyXEUa0"
      },
      "execution_count": null,
      "outputs": []
    },
    {
      "cell_type": "code",
      "source": [
        "^FO[PosHor(315)],380^ADR,18,10^FDMedico: &NM_MEDICO^FS\n",
        "# 1) ^FO Inicia um comando de formatação de texto.\n",
        "# 2) [PosHor(315)] Define a posição horizontal do texto. O valor 315 indica que o texto deve ser impresso a 315 pontos da borda esquerda da etiqueta.\n",
        "# 3) ,380 Define a posição vertical do texto. O valor 380 indica que o texto deve ser impresso a 380 pontos da borda inferior da etiqueta.\n",
        "# 4) ^ADR,18,10 Define o alinhamento do texto. O valor 18 indica que o texto deve ser alinhado à direita. O valor 10 indica que o texto deve ser justificado à direita.\n",
        "# 5) ^FDMedico: &NM_MEDICO^FS Imprime o texto \"Medico: \", seguido do nome do médico responsável pelo paciente."
      ],
      "metadata": {
        "id": "u4QyeuZfGCAd"
      },
      "execution_count": null,
      "outputs": []
    },
    {
      "cell_type": "code",
      "source": [
        "^FO[PosHor(460)],1310^AER,18,10^FDP-GR^FS\n",
        "# 1) ^FO Inicia um comando de formatação de texto.\n",
        "# 2) [PosHor(460)] Define a posição horizontal do texto. O valor 460 indica que o texto deve ser impresso a 460 pontos da borda esquerda da etiqueta.\n",
        "# 3) ,1310 Define a posição vertical do texto. O valor 1310 indica que o texto deve ser impresso a 1310 pontos da borda inferior da etiqueta.\n",
        "# 4) AER,18,10 é um comando de formatação que define o alinhamento do texto. O formato geral do comando é AER,alinhamento, onde alinhamento pode ser L para esquerda, C para centro ou R para direita. O valor 18 indica que o texto deve ser alinhado à direita. O valor 10 indica que o texto deve ser justificado à direita.\n",
        "# 5) No exemplo, o comando ^FS finaliza a linha após o texto \"P-GR\" ser impresso. Isso significa que o texto \"P-GR\" será impresso em uma linha separada."
      ],
      "metadata": {
        "id": "NL2PT2EmGoii"
      },
      "execution_count": null,
      "outputs": []
    },
    {
      "cell_type": "code",
      "source": [
        "^FO[PosHor(350)],1200^BQN,2,5^FDQA,&CD_PESSOA_FISICA^FS\n",
        "# 1) ^FO Inicia um comando de formatação de texto.\n",
        "# 2) [PosHor(350)] Define a posição horizontal do texto. O valor 350 indica que o texto deve ser impresso a 350 pontos da borda esquerda da etiqueta.\n",
        "# 3) ,1200 Define a posição vertical do texto. O valor 1200 indica que o texto deve ser impresso a 1200 pontos da borda inferior da etiqueta.\n",
        "# 4) BQN,2,5 define um código de barras na etiqueta. ^BQN é o comando para criar um código de barras. Os números 2 e 5 são parâmetros para definir o tipo específico de código de barras a ser utilizado. O 2 pode ser o tipo de simbologia do código de barras (como QR Code) e o 5 pode representar a proporção do módulo (largura do código de barras).\n",
        "# 5) ^FDQA,&CD_PESSOA_FISICA^FS define os dados a serem codificados no código de barras. ^FD indica o início dos dados. QA pode ser um parâmetro para a configuração específica do código de barras. &CD_PESSOA_FISICA provavelmente é uma variável ou um valor a ser codificado no código de barras. ^FS indica o final do campo."
      ],
      "metadata": {
        "id": "RMr7WJf8HRjh"
      },
      "execution_count": null,
      "outputs": []
    },
    {
      "cell_type": "code",
      "source": [
        "^FO[PosHor(310)],1290^AER,18,10^FDCWMF-16^FS\n",
        "# 1) ^FO Inicia um comando de formatação de texto.\n",
        "# 2) [PosHor(310)] Define a posição horizontal do texto. O valor 310 indica que o texto deve ser impresso a 310 pontos da borda esquerda da etiqueta.\n",
        "# 3) ,1290 Define a posição vertical do texto. O valor 1290 indica que o texto deve ser impresso a 1290 pontos da borda inferior da etiqueta.\n",
        "# 4) ^AER,18,10 este trecho configura a fonte e o tamanho do texto. ^A é o comando para definir a fonte do texto. ER pode ser um tipo específico de fonte ou estilo de texto. 18 parece ser o tamanho da fonte. 10 pode ser o espaçamento entre as linhas de texto.\n",
        "# 5) ^FDCWMF-16^FS esta seção define os dados a serem exibidos no campo de texto. ^FD indica o início dos dados a serem exibidos. CWMF-16 é o texto ou conteúdo que será impresso na etiqueta. ^FS indica o fim do campo de texto."
      ],
      "metadata": {
        "id": "lr36qjyDJYgX"
      },
      "execution_count": null,
      "outputs": []
    },
    {
      "cell_type": "code",
      "source": [
        "^XZ\n",
        "# 1) É um comando de término que finaliza o formato da etiqueta ou o bloco de comandos ZPL. Quando esse comando é encontrado, a impressora entende que todos os comandos referentes à formatação da etiqueta ou ações específicas foram definidos e que a etiqueta está pronta para ser impressa."
      ],
      "metadata": {
        "id": "N4pweK3-KTW8"
      },
      "execution_count": null,
      "outputs": []
    },
    {
      "cell_type": "code",
      "source": [
        "^JUa\n",
        "# 1) Este comando é parte dos comandos de formatação de texto da ZPL. Nesse contexto, o \"JU\" significa \"Justificar\" o texto.\n",
        "# 2) O caractere após o comando \"^JU\" indica a direção da justificação. No caso de \"a\", geralmente é usado para justificar o texto à esquerda."
      ],
      "metadata": {
        "id": "Nah4fHTeKsV4"
      },
      "execution_count": null,
      "outputs": []
    }
  ]
}
